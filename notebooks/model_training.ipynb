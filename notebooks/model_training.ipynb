{
 "cells": [
  {
   "cell_type": "code",
   "execution_count": 35,
   "id": "106b6fd1",
   "metadata": {},
   "outputs": [],
   "source": [
    "import pandas as pd\n",
    "import numpy as np\n",
    "import os\n",
    "import joblib\n",
    "from sklearn.model_selection import train_test_split\n",
    "from sklearn.preprocessing import LabelEncoder\n",
    "from sklearn.ensemble import RandomForestRegressor\n",
    "from sklearn.metrics import mean_squared_error"
   ]
  },
  {
   "cell_type": "code",
   "execution_count": 51,
   "id": "10be48c0",
   "metadata": {},
   "outputs": [],
   "source": [
    "df = pd.read_csv(\"../data/bikes_cleaned.csv\") "
   ]
  },
  {
   "cell_type": "code",
   "execution_count": 37,
   "id": "8871f85c",
   "metadata": {},
   "outputs": [],
   "source": [
    "df.dropna(inplace=True)"
   ]
  },
  {
   "cell_type": "code",
   "execution_count": 38,
   "id": "2f7b50fa",
   "metadata": {},
   "outputs": [],
   "source": [
    "label_encoders = {}\n",
    "categorical_cols = df.select_dtypes(include='object').columns\n",
    "\n",
    "for col in categorical_cols:\n",
    "    le = LabelEncoder()\n",
    "    df[col] = le.fit_transform(df[col])\n",
    "    label_encoders[col] = le "
   ]
  },
  {
   "cell_type": "code",
   "execution_count": 52,
   "id": "f9fb6bd1",
   "metadata": {},
   "outputs": [],
   "source": [
    "# Data Preparation\n",
    "X = df.drop(['price'] + non_numeric, axis=1)\n",
    "y = df['price']"
   ]
  },
  {
   "cell_type": "code",
   "execution_count": 53,
   "id": "df3b8445",
   "metadata": {},
   "outputs": [],
   "source": [
    "# Impute any missing values\n",
    "imputer = SimpleImputer(strategy='mean')\n",
    "X_imputed = pd.DataFrame(imputer.fit_transform(X), columns=X.columns)\n"
   ]
  },
  {
   "cell_type": "code",
   "execution_count": 54,
   "id": "818f1a88",
   "metadata": {},
   "outputs": [],
   "source": [
    "# Train/Test Split\n",
    "# Split data\n",
    "X_train, X_test, y_train, y_test = train_test_split(X, y, test_size=0.2, random_state=42)"
   ]
  },
  {
   "cell_type": "code",
   "execution_count": 42,
   "id": "6c042113",
   "metadata": {},
   "outputs": [
    {
     "name": "stdout",
     "output_type": "stream",
     "text": [
      "🔹 Linear Regression\n",
      "MAE: 25933.16871852731\n",
      "MSE: 2162322069.1842675\n",
      "R2: 0.5072855790566395\n"
     ]
    }
   ],
   "source": [
    "# Model 1: Linear Regression\n",
    "lr = LinearRegression()\n",
    "lr.fit(X_train, y_train)\n",
    "lr_preds = lr.predict(X_test)\n",
    "\n",
    "print(\"🔹 Linear Regression\")\n",
    "print(\"MAE:\", mean_absolute_error(y_test, lr_preds))\n",
    "print(\"MSE:\", mean_squared_error(y_test, lr_preds))\n",
    "print(\"R2:\", r2_score(y_test, lr_preds))"
   ]
  },
  {
   "cell_type": "code",
   "execution_count": 43,
   "id": "b51c59dd",
   "metadata": {},
   "outputs": [
    {
     "name": "stdout",
     "output_type": "stream",
     "text": [
      "🔹 Random Forest\n",
      "MAE: 13478.026652878654\n",
      "MSE: 1338489470.8027315\n",
      "R2: 0.6950070140133446\n"
     ]
    }
   ],
   "source": [
    "# Model 2: Random Forest with Tuning\n",
    "rf = RandomForestRegressor(random_state=42)\n",
    "param_grid = {'n_estimators': [100], 'max_depth': [10, 20, None]}\n",
    "grid = GridSearchCV(rf, param_grid, cv=3)\n",
    "grid.fit(X_train, y_train)\n",
    "\n",
    "rf_best = grid.best_estimator_\n",
    "rf_preds = rf_best.predict(X_test)\n",
    "\n",
    "print(\"🔹 Random Forest\")\n",
    "print(\"MAE:\", mean_absolute_error(y_test, rf_preds))\n",
    "print(\"MSE:\", mean_squared_error(y_test, rf_preds))\n",
    "print(\"R2:\", r2_score(y_test, rf_preds))"
   ]
  },
  {
   "cell_type": "code",
   "execution_count": 44,
   "id": "88d0c417",
   "metadata": {},
   "outputs": [
    {
     "name": "stdout",
     "output_type": "stream",
     "text": [
      "🔹 Ridge Regression\n",
      "MAE: 25933.175143266246\n",
      "MSE: 2162319969.7963343\n",
      "R2: 0.5072860574306638\n"
     ]
    }
   ],
   "source": [
    "#Model 3: Ridge Regression\n",
    "ridge = Ridge(alpha=1.0)\n",
    "ridge.fit(X_train, y_train)\n",
    "ridge_preds = ridge.predict(X_test)\n",
    "\n",
    "print(\"🔹 Ridge Regression\")\n",
    "print(\"MAE:\", mean_absolute_error(y_test, ridge_preds))\n",
    "print(\"MSE:\", mean_squared_error(y_test, ridge_preds))\n",
    "print(\"R2:\", r2_score(y_test, ridge_preds))"
   ]
  },
  {
   "cell_type": "code",
   "execution_count": 45,
   "id": "8d4c8568",
   "metadata": {},
   "outputs": [
    {
     "data": {
      "image/png": "[encoded data removed]",
      "text/plain": [
       "<Figure size 800x500 with 1 Axes>"
      ]
     },
     "metadata": {},
     "output_type": "display_data"
    }
   ],
   "source": [
    "# Plot Model Comparison\n",
    "models = ['Linear Regression', 'Random Forest', 'Ridge']\n",
    "r2_scores = [r2_score(y_test, lr_preds), r2_score(y_test, rf_preds), r2_score(y_test, ridge_preds)]\n",
    "\n",
    "plt.figure(figsize=(8,5))\n",
    "sns.barplot(x=models, y=r2_scores)\n",
    "plt.title(\"Model Comparison (R² Score)\")\n",
    "plt.ylabel(\"R² Score\")\n",
    "plt.tight_layout()\n",
    "plt.savefig(\"../outputs/graphs/model_comparison.png\")\n",
    "plt.show()"
   ]
  }
 ],
 "metadata": {
  "kernelspec": {
   "display_name": "venv",
   "language": "python",
   "name": "python3"
  },
  "language_info": {
   "codemirror_mode": {
    "name": "ipython",
    "version": 3
   },
   "file_extension": ".py",
   "mimetype": "text/x-python",
   "name": "python",
   "nbconvert_exporter": "python",
   "pygments_lexer": "ipython3",
   "version": "3.11.7"
  }
 },
 "nbformat": 4,
 "nbformat_minor": 5
}
